{
 "cells": [
  {
   "cell_type": "markdown",
   "metadata": {},
   "source": [
    "# Data Showcase Project - Monster Data"
   ]
  },
  {
   "cell_type": "markdown",
   "metadata": {},
   "source": [
    "## Importing Librarys and Data "
   ]
  },
  {
   "cell_type": "code",
   "execution_count": 30,
   "metadata": {},
   "outputs": [],
   "source": [
    "import pandas as pd\n",
    "import requests\n",
    "import matplotlib.pyplot as plt\n",
    "from scipy import stats\n",
    "import numpy as np"
   ]
  },
  {
   "cell_type": "code",
   "execution_count": 31,
   "metadata": {},
   "outputs": [
    {
     "data": {
      "text/html": [
       "<div>\n",
       "<style scoped>\n",
       "    .dataframe tbody tr th:only-of-type {\n",
       "        vertical-align: middle;\n",
       "    }\n",
       "\n",
       "    .dataframe tbody tr th {\n",
       "        vertical-align: top;\n",
       "    }\n",
       "\n",
       "    .dataframe thead th {\n",
       "        text-align: right;\n",
       "    }\n",
       "</style>\n",
       "<table border=\"1\" class=\"dataframe\">\n",
       "  <thead>\n",
       "    <tr style=\"text-align: right;\">\n",
       "      <th></th>\n",
       "      <th>tconst</th>\n",
       "      <th>title_type</th>\n",
       "      <th>primary_title</th>\n",
       "      <th>original_title</th>\n",
       "      <th>year</th>\n",
       "      <th>runtime_minutes</th>\n",
       "      <th>genres</th>\n",
       "      <th>simple_title</th>\n",
       "      <th>average_rating</th>\n",
       "      <th>num_votes</th>\n",
       "    </tr>\n",
       "  </thead>\n",
       "  <tbody>\n",
       "    <tr>\n",
       "      <th>0</th>\n",
       "      <td>tt0016123</td>\n",
       "      <td>movie</td>\n",
       "      <td>The Monster</td>\n",
       "      <td>The Monster</td>\n",
       "      <td>1925</td>\n",
       "      <td>86.0</td>\n",
       "      <td>Comedy,Horror,Mystery</td>\n",
       "      <td>the monster</td>\n",
       "      <td>6.2</td>\n",
       "      <td>1412</td>\n",
       "    </tr>\n",
       "    <tr>\n",
       "      <th>1</th>\n",
       "      <td>tt0023236</td>\n",
       "      <td>movie</td>\n",
       "      <td>The Monster Walks</td>\n",
       "      <td>The Monster Walks</td>\n",
       "      <td>1932</td>\n",
       "      <td>57.0</td>\n",
       "      <td>Horror,Mystery</td>\n",
       "      <td>the monster walks</td>\n",
       "      <td>4.1</td>\n",
       "      <td>1120</td>\n",
       "    </tr>\n",
       "    <tr>\n",
       "      <th>2</th>\n",
       "      <td>tt0031208</td>\n",
       "      <td>movie</td>\n",
       "      <td>The Human Monster</td>\n",
       "      <td>The Dark Eyes of London</td>\n",
       "      <td>1939</td>\n",
       "      <td>73.0</td>\n",
       "      <td>Crime,Drama,Horror</td>\n",
       "      <td>the human monster</td>\n",
       "      <td>5.7</td>\n",
       "      <td>1579</td>\n",
       "    </tr>\n",
       "    <tr>\n",
       "      <th>3</th>\n",
       "      <td>tt0033879</td>\n",
       "      <td>movie</td>\n",
       "      <td>Man Made Monster</td>\n",
       "      <td>Man Made Monster</td>\n",
       "      <td>1941</td>\n",
       "      <td>59.0</td>\n",
       "      <td>Drama,Horror,Romance</td>\n",
       "      <td>man made monster</td>\n",
       "      <td>6.1</td>\n",
       "      <td>1953</td>\n",
       "    </tr>\n",
       "    <tr>\n",
       "      <th>4</th>\n",
       "      <td>tt0033916</td>\n",
       "      <td>movie</td>\n",
       "      <td>The Monster and the Girl</td>\n",
       "      <td>The Monster and the Girl</td>\n",
       "      <td>1941</td>\n",
       "      <td>65.0</td>\n",
       "      <td>Crime,Drama,Horror</td>\n",
       "      <td>the monster and the girl</td>\n",
       "      <td>6.0</td>\n",
       "      <td>799</td>\n",
       "    </tr>\n",
       "  </tbody>\n",
       "</table>\n",
       "</div>"
      ],
      "text/plain": [
       "      tconst title_type             primary_title            original_title  \\\n",
       "0  tt0016123      movie               The Monster               The Monster   \n",
       "1  tt0023236      movie         The Monster Walks         The Monster Walks   \n",
       "2  tt0031208      movie         The Human Monster   The Dark Eyes of London   \n",
       "3  tt0033879      movie          Man Made Monster          Man Made Monster   \n",
       "4  tt0033916      movie  The Monster and the Girl  The Monster and the Girl   \n",
       "\n",
       "   year  runtime_minutes                 genres              simple_title  \\\n",
       "0  1925             86.0  Comedy,Horror,Mystery               the monster   \n",
       "1  1932             57.0         Horror,Mystery         the monster walks   \n",
       "2  1939             73.0     Crime,Drama,Horror         the human monster   \n",
       "3  1941             59.0   Drama,Horror,Romance          man made monster   \n",
       "4  1941             65.0     Crime,Drama,Horror  the monster and the girl   \n",
       "\n",
       "   average_rating  num_votes  \n",
       "0             6.2       1412  \n",
       "1             4.1       1120  \n",
       "2             5.7       1579  \n",
       "3             6.1       1953  \n",
       "4             6.0        799  "
      ]
     },
     "execution_count": 31,
     "metadata": {},
     "output_type": "execute_result"
    }
   ],
   "source": [
    "url = 'https://raw.githubusercontent.com/rfordatascience/tidytuesday/master/data/2024/2024-10-29/monster_movies.csv'\n",
    "data = pd.read_csv(url)\n",
    "data.head()"
   ]
  },
  {
   "cell_type": "markdown",
   "metadata": {},
   "source": [
    "## Graphs and Analysis"
   ]
  },
  {
   "cell_type": "markdown",
   "metadata": {},
   "source": [
    "### Question 1 - Do people enjoy longer movies?"
   ]
  },
  {
   "cell_type": "markdown",
   "metadata": {},
   "source": [
    "One of the interesting questions that could be explored from this data is if audiences prefer longer monster movies. To start, let's take a look at the descriptive statistics, and a simple plot for these two variables.   "
   ]
  },
  {
   "cell_type": "code",
   "execution_count": 32,
   "metadata": {},
   "outputs": [
    {
     "name": "stdout",
     "output_type": "stream",
     "text": [
      "Average Rating:\n",
      "count    630.000000\n",
      "mean       5.773968\n",
      "std        1.586165\n",
      "min        1.200000\n",
      "25%        4.800000\n",
      "50%        6.000000\n",
      "75%        6.900000\n",
      "max        9.500000\n",
      "Name: average_rating, dtype: float64\n",
      "\n",
      "Runtime:\n",
      "count    576.000000\n",
      "mean      80.185764\n",
      "std       27.514332\n",
      "min        1.000000\n",
      "25%       70.000000\n",
      "50%       84.000000\n",
      "75%       93.000000\n",
      "max      295.000000\n",
      "Name: runtime_minutes, dtype: float64\n"
     ]
    }
   ],
   "source": [
    "## Desciptive Statistics:\n",
    "avgRating = data['average_rating']\n",
    "runtime_minutes = data['runtime_minutes']\n",
    "print(\"Average Rating:\")\n",
    "print(avgRating.describe())\n",
    "print(\"\\nRuntime:\")\n",
    "print(runtime_minutes.describe())"
   ]
  },
  {
   "cell_type": "code",
   "execution_count": 33,
   "metadata": {},
   "outputs": [
    {
     "data": {
      "image/png": "[encoded data removed]",
      "text/plain": [
       "<Figure size 640x480 with 1 Axes>"
      ]
     },
     "metadata": {},
     "output_type": "display_data"
    }
   ],
   "source": [
    "plt.scatter(runtime_minutes,avgRating)\n",
    "plt.show()"
   ]
  },
  {
   "cell_type": "markdown",
   "metadata": {},
   "source": [
    "**Visual Analysis** \n",
    "\n",
    "The data is heavily clustered, with 50% of the data between 70 and 93 minute runtimes. While almost all of the films rated below 5/10 are within that range, there are also many films rated above 8/10 within that range too. There are a lot of outliers though, so it would be interesting to see what this chart looks like without outliers."
   ]
  },
  {
   "cell_type": "markdown",
   "metadata": {},
   "source": [
    "**Removing Outliers**"
   ]
  },
  {
   "cell_type": "code",
   "execution_count": 41,
   "metadata": {},
   "outputs": [
    {
     "data": {
      "text/plain": [
       "<bound method NDFrame.head of         tconst title_type                primary_title  \\\n",
       "0    tt0016123      movie                  The Monster   \n",
       "1    tt0023236      movie            The Monster Walks   \n",
       "2    tt0031208      movie            The Human Monster   \n",
       "3    tt0033879      movie             Man Made Monster   \n",
       "4    tt0033916      movie     The Monster and the Girl   \n",
       "..         ...        ...                          ...   \n",
       "625  tt9563330      movie              Goodbye Monster   \n",
       "626  tt9572006      movie             My Sweet Monster   \n",
       "627  tt9598824      movie         I Am (Not) a Monster   \n",
       "628  tt9620986      movie                      Monster   \n",
       "629  tt9702912      movie  Monster with a Movie Camera   \n",
       "\n",
       "                           original_title  year  runtime_minutes  \\\n",
       "0                             The Monster  1925             86.0   \n",
       "1                       The Monster Walks  1932             57.0   \n",
       "2                 The Dark Eyes of London  1939             73.0   \n",
       "3                        Man Made Monster  1941             59.0   \n",
       "4                The Monster and the Girl  1941             65.0   \n",
       "..                                    ...   ...              ...   \n",
       "625  Shan Hai Jing zhi Zai jian guai shou  2022             99.0   \n",
       "626        Buka. Moyo lyubimoe chudishche  2021             98.0   \n",
       "627                  I Am (Not) a Monster  2019             90.0   \n",
       "628                               Arracht  2019             90.0   \n",
       "629           Monster with a Movie Camera  2018             49.0   \n",
       "\n",
       "                         genres                 simple_title  average_rating  \\\n",
       "0         Comedy,Horror,Mystery                  the monster             6.2   \n",
       "1                Horror,Mystery            the monster walks             4.1   \n",
       "2            Crime,Drama,Horror            the human monster             5.7   \n",
       "3          Drama,Horror,Romance             man made monster             6.1   \n",
       "4            Crime,Drama,Horror     the monster and the girl             6.0   \n",
       "..                          ...                          ...             ...   \n",
       "625  Adventure,Animation,Comedy              goodbye monster             5.6   \n",
       "626  Adventure,Animation,Family             my sweet monster             4.8   \n",
       "627                 Documentary           i am not a monster             5.9   \n",
       "628                       Drama                      monster             7.0   \n",
       "629                      Comedy  monster with a movie camera             7.1   \n",
       "\n",
       "     num_votes   z_Score  \n",
       "0         1412  0.211317  \n",
       "1         1120  0.842680  \n",
       "2         1579  0.261164  \n",
       "3         1953  0.769990  \n",
       "4          799  0.551922  \n",
       "..         ...       ...  \n",
       "625        277  0.683798  \n",
       "626        518  0.647453  \n",
       "627         93  0.356695  \n",
       "628        525  0.356695  \n",
       "629         34  1.133437  \n",
       "\n",
       "[630 rows x 11 columns]>"
      ]
     },
     "execution_count": 41,
     "metadata": {},
     "output_type": "execute_result"
    }
   ],
   "source": [
    "dataQ1 = data\n",
    "dataQ1['z_Score'] = abs((dataQ1['runtime_minutes'] - dataQ1['runtime_minutes'].mean()) / dataQ1['runtime_minutes'].std())\n",
    "dataQ1.head"
   ]
  },
  {
   "cell_type": "code",
   "execution_count": 45,
   "metadata": {},
   "outputs": [
    {
     "data": {
      "text/plain": [
       "<bound method NDFrame.head of         tconst title_type                primary_title  \\\n",
       "0    tt0016123      movie                  The Monster   \n",
       "1    tt0023236      movie            The Monster Walks   \n",
       "2    tt0031208      movie            The Human Monster   \n",
       "3    tt0033879      movie             Man Made Monster   \n",
       "4    tt0033916      movie     The Monster and the Girl   \n",
       "..         ...        ...                          ...   \n",
       "625  tt9563330      movie              Goodbye Monster   \n",
       "626  tt9572006      movie             My Sweet Monster   \n",
       "627  tt9598824      movie         I Am (Not) a Monster   \n",
       "628  tt9620986      movie                      Monster   \n",
       "629  tt9702912      movie  Monster with a Movie Camera   \n",
       "\n",
       "                           original_title  year  runtime_minutes  \\\n",
       "0                             The Monster  1925             86.0   \n",
       "1                       The Monster Walks  1932             57.0   \n",
       "2                 The Dark Eyes of London  1939             73.0   \n",
       "3                        Man Made Monster  1941             59.0   \n",
       "4                The Monster and the Girl  1941             65.0   \n",
       "..                                    ...   ...              ...   \n",
       "625  Shan Hai Jing zhi Zai jian guai shou  2022             99.0   \n",
       "626        Buka. Moyo lyubimoe chudishche  2021             98.0   \n",
       "627                  I Am (Not) a Monster  2019             90.0   \n",
       "628                               Arracht  2019             90.0   \n",
       "629           Monster with a Movie Camera  2018             49.0   \n",
       "\n",
       "                         genres                 simple_title  average_rating  \\\n",
       "0         Comedy,Horror,Mystery                  the monster             6.2   \n",
       "1                Horror,Mystery            the monster walks             4.1   \n",
       "2            Crime,Drama,Horror            the human monster             5.7   \n",
       "3          Drama,Horror,Romance             man made monster             6.1   \n",
       "4            Crime,Drama,Horror     the monster and the girl             6.0   \n",
       "..                          ...                          ...             ...   \n",
       "625  Adventure,Animation,Comedy              goodbye monster             5.6   \n",
       "626  Adventure,Animation,Family             my sweet monster             4.8   \n",
       "627                 Documentary           i am not a monster             5.9   \n",
       "628                       Drama                      monster             7.0   \n",
       "629                      Comedy  monster with a movie camera             7.1   \n",
       "\n",
       "     num_votes   z_Score  \n",
       "0         1412  0.211317  \n",
       "1         1120  0.842680  \n",
       "2         1579  0.261164  \n",
       "3         1953  0.769990  \n",
       "4          799  0.551922  \n",
       "..         ...       ...  \n",
       "625        277  0.683798  \n",
       "626        518  0.647453  \n",
       "627         93  0.356695  \n",
       "628        525  0.356695  \n",
       "629         34  1.133437  \n",
       "\n",
       "[540 rows x 11 columns]>"
      ]
     },
     "execution_count": 45,
     "metadata": {},
     "output_type": "execute_result"
    }
   ],
   "source": [
    "dataQ1Clean = dataQ1[dataQ1['z_Score']<=2]\n",
    "dataQ1Clean.head"
   ]
  },
  {
   "cell_type": "markdown",
   "metadata": {},
   "source": [
    "**Graph with Zscore < 3**"
   ]
  },
  {
   "cell_type": "code",
   "execution_count": 46,
   "metadata": {},
   "outputs": [
    {
     "name": "stdout",
     "output_type": "stream",
     "text": [
      "Average Rating:\n",
      "count    540.000000\n",
      "mean       5.640926\n",
      "std        1.571326\n",
      "min        1.200000\n",
      "25%        4.675000\n",
      "50%        5.800000\n",
      "75%        6.700000\n",
      "max        9.100000\n",
      "Name: average_rating, dtype: float64\n",
      "\n",
      "Runtime:\n",
      "count    540.000000\n",
      "mean      81.638889\n",
      "std       19.233290\n",
      "min       26.000000\n",
      "25%       72.000000\n",
      "50%       84.000000\n",
      "75%       93.000000\n",
      "max      135.000000\n",
      "Name: runtime_minutes, dtype: float64\n"
     ]
    }
   ],
   "source": [
    "avgRating = dataQ1Clean['average_rating']\n",
    "runtime_minutes = dataQ1Clean['runtime_minutes']\n",
    "print(\"Average Rating:\")\n",
    "print(avgRating.describe())\n",
    "print(\"\\nRuntime:\")\n",
    "print(runtime_minutes.describe())"
   ]
  },
  {
   "cell_type": "code",
   "execution_count": 47,
   "metadata": {},
   "outputs": [
    {
     "data": {
      "image/png": "[encoded data removed]",
      "text/plain": [
       "<Figure size 640x480 with 1 Axes>"
      ]
     },
     "metadata": {},
     "output_type": "display_data"
    }
   ],
   "source": [
    "plt.scatter(runtime_minutes,avgRating)\n",
    "plt.show()"
   ]
  },
  {
   "cell_type": "code",
   "execution_count": 49,
   "metadata": {},
   "outputs": [
    {
     "name": "stdout",
     "output_type": "stream",
     "text": [
      "-0.11099887776431547\n"
     ]
    }
   ],
   "source": [
    "print(avgRating.corr(runtime_minutes))"
   ]
  },
  {
   "cell_type": "markdown",
   "metadata": {},
   "source": [
    "**Analysis**\n",
    "\n",
    "With a correlation of -.11, this is incredibly weak. As a result of this, the data does not support any correlation between film length and average rating. Further points for analysis could include exploring genres of monster films or investigating various thresholds of number of votes to see if more niche films skew the data at all."
   ]
  },
  {
   "cell_type": "markdown",
   "metadata": {},
   "source": [
    "Data sourced from IMDB by statssignificant (https://www.statsignificant.com/p/why-do-people-like-horror-films-), selected as part of TidyTuesday (https://github.com/rfordatascience/tidytuesday/tree/master)\n",
    "Analysis done by David Ross, 2024"
   ]
  }
 ],
 "metadata": {
  "kernelspec": {
   "display_name": "Python 3",
   "language": "python",
   "name": "python3"
  },
  "language_info": {
   "codemirror_mode": {
    "name": "ipython",
    "version": 3
   },
   "file_extension": ".py",
   "mimetype": "text/x-python",
   "name": "python",
   "nbconvert_exporter": "python",
   "pygments_lexer": "ipython3",
   "version": "3.12.0"
  }
 },
 "nbformat": 4,
 "nbformat_minor": 2
}
